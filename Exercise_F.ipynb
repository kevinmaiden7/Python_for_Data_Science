{
 "cells": [
  {
   "cell_type": "markdown",
   "id": "29a124cf",
   "metadata": {},
   "source": [
    "# Exercise\n",
    "\n",
    "We will work with some files from the publicly available dataset 'Instacart Market Basket Analysis': https://www.kaggle.com/c/instacart-market-basket-analysis/data\n",
    "\n",
    "You must import the datasets **order_products_train.csv**, and **products.csv**; they are located in the folder *data/instacart*. Then, perform the following tasks:\n",
    "1. Verify if the datasets have missing values in any of its columns.\n",
    "2. Plot a bar chart with the 15 most common purchased products.\n",
    "3. Plot a bar chart with the 15 most common purchased products that have been reordered.\n",
    "\n",
    "*For tasks 2 and 3 you must show the name of the products as labels instead of the id*."
   ]
  }
 ],
 "metadata": {
  "kernelspec": {
   "display_name": "Python 3",
   "language": "python",
   "name": "python3"
  },
  "language_info": {
   "codemirror_mode": {
    "name": "ipython",
    "version": 3
   },
   "file_extension": ".py",
   "mimetype": "text/x-python",
   "name": "python",
   "nbconvert_exporter": "python",
   "pygments_lexer": "ipython3",
   "version": "3.8.8"
  }
 },
 "nbformat": 4,
 "nbformat_minor": 5
}
