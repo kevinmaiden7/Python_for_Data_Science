{
 "cells": [
  {
   "cell_type": "markdown",
   "metadata": {
    "colab_type": "text",
    "id": "oCvoFU33aot8"
   },
   "source": [
    "## Jupyter Notebooks\n",
    "\n",
    "Jupyter Notebook es un proyecto open source que permite ejecutar interactivamente varios lenjuages de programación. Su nombre es una referencia a los lenguajes que fueron considerados en el inicio del proyecto: JUlia, PYThon y R. Pero en la actulidad se ha expandido a muchos otras más. Este proyecto también se conoció antes bajo el nombre de **IPython Notebooks**.  Los Notebooks, en su formato \"crudo\" son un archivo [JSON](https://en.wikipedia.org/wiki/JSON) que es renderizado para permitir combinar tanto codigo, texto (Usando [Markdown](https://en.wikipedia.org/wiki/Markdown)), lenguaje matemático y graficas.\n",
    "\n",
    "Los notebooks pueden ser ejecutados en diferentes entornos. Estos entornos pueden ser locales (requieren instalación y configuración) o en la nube por medio de un navegador moderno (no requiere ninguna configuración).\n",
    "\n",
    "En la industria, los Jupyter Notebooks son un herramienta altamente adoptada y se considera un \"estandar\" para el desarrollo, documentación y comunicación de resultados de investigación en trabajos de ciencia de datos. \n",
    "\n",
    "Sin embargo, es totalmente vital aclarar que los notebooks son un entorno para exploración interactiva y presentación de resultados que sean reproducibles. No es recomendado su uso para tareas de *Software Engineering* \"más puras\" (implementación de APIs, código de un sistema productivo, etc). \n",
    "\n",
    "Cada dia cobra mas fuerza la siguiente idea: **los notebooks son usados en las primeras etapas de desarollo de una aplicación de ML. Pero cuando el modelo está cada vez esta más cerca a un entorno \"productivo\", el código de un notebook debe ser refactorizado a un codigo que sea mas mantenible y escalable**."
   ]
  },
  {
   "cell_type": "markdown",
   "metadata": {},
   "source": [
    "---"
   ]
  },
  {
   "cell_type": "markdown",
   "metadata": {},
   "source": [
    "# Title 1"
   ]
  },
  {
   "cell_type": "markdown",
   "metadata": {},
   "source": [
    "## Title 2"
   ]
  },
  {
   "cell_type": "markdown",
   "metadata": {},
   "source": [
    "#### Subtitle"
   ]
  },
  {
   "cell_type": "markdown",
   "metadata": {},
   "source": [
    "Some text"
   ]
  },
  {
   "cell_type": "markdown",
   "metadata": {},
   "source": [
    "**Some important text**"
   ]
  },
  {
   "cell_type": "markdown",
   "metadata": {},
   "source": [
    "*Quote*"
   ]
  },
  {
   "cell_type": "markdown",
   "metadata": {},
   "source": [
    "![Image](images/analytics_data_science.png)"
   ]
  },
  {
   "cell_type": "markdown",
   "metadata": {},
   "source": [
    "$$ f_n = f_{n-1}+f_{n-2}$$ "
   ]
  },
  {
   "cell_type": "markdown",
   "metadata": {},
   "source": [
    "---"
   ]
  },
  {
   "cell_type": "markdown",
   "metadata": {},
   "source": [
    "## Ejecución de Código"
   ]
  },
  {
   "cell_type": "markdown",
   "metadata": {
    "colab_type": "text",
    "id": "VbU2eqv_aot8"
   },
   "source": [
    "Cada celda de codigo se ejecuta por separado. Esto implica que **la ejecución se realiza desde arriba hacia abajo en orden**. Es así como evitamos problemas de importación de librerías o variables sin definir.\n",
    "\n",
    "Por ejemplo, esta es una celda de código con una secuencia de comandos Python corta que calcula un valor, lo almacena en una variable y devuelve el resultado:\n",
    "\n"
   ]
  },
  {
   "cell_type": "code",
   "execution_count": 3,
   "metadata": {
    "colab": {},
    "colab_type": "code",
    "id": "PnEzztjvaot8"
   },
   "outputs": [
    {
     "data": {
      "text/plain": [
       "86400"
      ]
     },
     "execution_count": 3,
     "metadata": {},
     "output_type": "execute_result"
    }
   ],
   "source": [
    "seconds_in_a_day = 24 * 60 * 60\n",
    "seconds_in_a_day"
   ]
  },
  {
   "cell_type": "markdown",
   "metadata": {
    "colab_type": "text",
    "id": "RCe8veMlaot_"
   },
   "source": [
    "A fin de ejecutar el código en la celda anterior, haz clic en él para seleccionarlo y, luego, presiona el botón de reproducción ubicado a la izquierda del código o usa la combinación de teclas \"Command/Ctrl + Intro\". \n",
    "\n",
    "Para editar el código, solo haz clic en la celda y comienza a editar.\n",
    "\n",
    "Las variables que defines en una celda pueden usarse en otras:"
   ]
  },
  {
   "cell_type": "code",
   "execution_count": 4,
   "metadata": {
    "colab": {},
    "colab_type": "code",
    "id": "N1X5P20paouA"
   },
   "outputs": [
    {
     "data": {
      "text/plain": [
       "604800"
      ]
     },
     "execution_count": 4,
     "metadata": {},
     "output_type": "execute_result"
    }
   ],
   "source": [
    "seconds_in_a_week = 7 * seconds_in_a_day\n",
    "seconds_in_a_week"
   ]
  }
 ],
 "metadata": {
  "colab": {
   "name": "Intro.ipynb",
   "provenance": []
  },
  "kernelspec": {
   "display_name": "Python 3",
   "language": "python",
   "name": "python3"
  },
  "language_info": {
   "codemirror_mode": {
    "name": "ipython",
    "version": 3
   },
   "file_extension": ".py",
   "mimetype": "text/x-python",
   "name": "python",
   "nbconvert_exporter": "python",
   "pygments_lexer": "ipython3",
   "version": "3.8.8"
  }
 },
 "nbformat": 4,
 "nbformat_minor": 1
}
