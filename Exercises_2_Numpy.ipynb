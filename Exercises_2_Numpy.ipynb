{
 "cells": [
  {
   "cell_type": "code",
   "execution_count": null,
   "metadata": {},
   "outputs": [],
   "source": [
    "import numpy as np"
   ]
  },
  {
   "cell_type": "markdown",
   "metadata": {},
   "source": [
    "# Task 1: Substracting row mean\n",
    "\n",
    "Given a matrix, your function must return a new one with the same dimensions in which each component is substracted the mean of its own row.\n",
    "\n",
    "\n",
    "**Execution example**\n",
    "```python\n",
    ">> X = np.array([[1, 2, 3], [4, 5, 6],[7,8,9]])\n",
    ">> media(X)\n",
    "array([[-1.,  0.,  1.],\n",
    "       [-1.,  0.,  1.],\n",
    "       [-1.,  0.,  1.]])\n",
    "```\n",
    "\n",
    "**HINT**: use broadcasting\n",
    "\n",
    "**CHALLENGE**: solve it with one line of code"
   ]
  },
  {
   "cell_type": "code",
   "execution_count": null,
   "metadata": {},
   "outputs": [],
   "source": [
    "def media(X):\n",
    "    # Write your code here"
   ]
  },
  {
   "cell_type": "markdown",
   "metadata": {},
   "source": [
    "**check your code manually**"
   ]
  },
  {
   "cell_type": "code",
   "execution_count": null,
   "metadata": {},
   "outputs": [],
   "source": [
    "X = np.array([[1, 2, 3], [4, 5, 6], [7,8,9]])\n",
    "media(X)"
   ]
  },
  {
   "cell_type": "markdown",
   "metadata": {},
   "source": [
    "# Task 2: Double the diagonal\n",
    "\n",
    "Complete the following function such that it returns the same matrix received in $X$ but with its diagonal multiplied by 2. Assume $X$ is a square matrix (with the same number of rows and columns).\n",
    "\n",
    "**Execution example**\n",
    "\n",
    "```python\n",
    ">> X = np.array([[79, 45, 67,  8, 37],\n",
    ">>               [47, 40,  5, 79, 86],\n",
    ">>               [72, 25, 44, 45, 22],\n",
    ">>               [12, 85,  8, 53, 28],\n",
    ">>               [ 4, 37, 36, 40, 16]])\n",
    ">> \n",
    ">> doublediag(X)\n",
    "\n",
    "array([[158.,  45.,  67.,   8.,  37.],\n",
    "       [ 47.,  80.,   5.,  79.,  86.],\n",
    "       [ 72.,  25.,  88.,  45.,  22.],\n",
    "       [ 12.,  85.,   8., 106.,  28.],\n",
    "       [  4.,  37.,  36.,  40.,  32.]])\n",
    "```\n",
    "\n",
    "**HINT**: use [`np.eye`](https://docs.scipy.org/doc/numpy/reference/generated/numpy.eye.html)\n",
    "\n",
    "**CHALLENGE**: solve with one line of code"
   ]
  },
  {
   "cell_type": "code",
   "execution_count": null,
   "metadata": {},
   "outputs": [],
   "source": [
    "def doublediag(X):\n",
    "    # Write your code here"
   ]
  },
  {
   "cell_type": "markdown",
   "metadata": {},
   "source": [
    "**check manually your code**"
   ]
  },
  {
   "cell_type": "code",
   "execution_count": null,
   "metadata": {},
   "outputs": [],
   "source": [
    "X = np.array([[79, 45, 67,  8, 37],\n",
    "              [47, 40,  5, 79, 86],\n",
    "              [72, 25, 44, 45, 22],\n",
    "              [12, 85,  8, 53, 28],\n",
    "              [ 4, 37, 36, 40, 16]])\n",
    "doublediag(X)"
   ]
  }
 ],
 "metadata": {
  "kernelspec": {
   "display_name": "Python 3",
   "language": "python",
   "name": "python3"
  },
  "language_info": {
   "codemirror_mode": {
    "name": "ipython",
    "version": 3
   },
   "file_extension": ".py",
   "mimetype": "text/x-python",
   "name": "python",
   "nbconvert_exporter": "python",
   "pygments_lexer": "ipython3",
   "version": "3.8.8"
  }
 },
 "nbformat": 4,
 "nbformat_minor": 2
}
