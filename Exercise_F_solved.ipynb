{
 "cells": [
  {
   "cell_type": "markdown",
   "id": "619099ef",
   "metadata": {},
   "source": [
    "# Exercise\n",
    "\n",
    "We will work with some files from the publicly available dataset 'Instacart Market Basket Analysis': https://www.kaggle.com/c/instacart-market-basket-analysis/data\n",
    "\n",
    "You must import the datasets **order_products_train.csv**, and **products.csv**; they are located in the folder *data/instacart*. Then, perform the following tasks:\n",
    "- Verify if the datasets have missing values in any of its columns.\n",
    "- Plot a chart with the 15 most purchased products *(you must show the name of the products instead of the id)*.\n",
    "- Plot a chart with the 15 most purchased products that have been reordered *(you must show the name of the products instead of the id)*."
   ]
  },
  {
   "cell_type": "code",
   "execution_count": 1,
   "id": "ef031a36",
   "metadata": {},
   "outputs": [],
   "source": [
    "import numpy as np\n",
    "import pandas as pd\n",
    "import matplotlib.pyplot as plt"
   ]
  },
  {
   "cell_type": "code",
   "execution_count": 17,
   "id": "18e7cb4c",
   "metadata": {},
   "outputs": [],
   "source": [
    "order_products_train_df = pd.read_csv(\"data/instacart/order_products_train.csv\", index_col=0)\n",
    "products_df = pd.read_csv(\"data/instacart/products.csv\", index_col=0)"
   ]
  },
  {
   "cell_type": "code",
   "execution_count": 3,
   "id": "9174fc25",
   "metadata": {},
   "outputs": [
    {
     "data": {
      "text/html": [
       "<div>\n",
       "<style scoped>\n",
       "    .dataframe tbody tr th:only-of-type {\n",
       "        vertical-align: middle;\n",
       "    }\n",
       "\n",
       "    .dataframe tbody tr th {\n",
       "        vertical-align: top;\n",
       "    }\n",
       "\n",
       "    .dataframe thead th {\n",
       "        text-align: right;\n",
       "    }\n",
       "</style>\n",
       "<table border=\"1\" class=\"dataframe\">\n",
       "  <thead>\n",
       "    <tr style=\"text-align: right;\">\n",
       "      <th></th>\n",
       "      <th>product_id</th>\n",
       "      <th>add_to_cart_order</th>\n",
       "      <th>reordered</th>\n",
       "    </tr>\n",
       "    <tr>\n",
       "      <th>order_id</th>\n",
       "      <th></th>\n",
       "      <th></th>\n",
       "      <th></th>\n",
       "    </tr>\n",
       "  </thead>\n",
       "  <tbody>\n",
       "    <tr>\n",
       "      <th>1</th>\n",
       "      <td>49302</td>\n",
       "      <td>1</td>\n",
       "      <td>1</td>\n",
       "    </tr>\n",
       "    <tr>\n",
       "      <th>1</th>\n",
       "      <td>11109</td>\n",
       "      <td>2</td>\n",
       "      <td>1</td>\n",
       "    </tr>\n",
       "    <tr>\n",
       "      <th>1</th>\n",
       "      <td>10246</td>\n",
       "      <td>3</td>\n",
       "      <td>0</td>\n",
       "    </tr>\n",
       "    <tr>\n",
       "      <th>1</th>\n",
       "      <td>49683</td>\n",
       "      <td>4</td>\n",
       "      <td>0</td>\n",
       "    </tr>\n",
       "    <tr>\n",
       "      <th>1</th>\n",
       "      <td>43633</td>\n",
       "      <td>5</td>\n",
       "      <td>1</td>\n",
       "    </tr>\n",
       "    <tr>\n",
       "      <th>...</th>\n",
       "      <td>...</td>\n",
       "      <td>...</td>\n",
       "      <td>...</td>\n",
       "    </tr>\n",
       "    <tr>\n",
       "      <th>3421063</th>\n",
       "      <td>14233</td>\n",
       "      <td>3</td>\n",
       "      <td>1</td>\n",
       "    </tr>\n",
       "    <tr>\n",
       "      <th>3421063</th>\n",
       "      <td>35548</td>\n",
       "      <td>4</td>\n",
       "      <td>1</td>\n",
       "    </tr>\n",
       "    <tr>\n",
       "      <th>3421070</th>\n",
       "      <td>35951</td>\n",
       "      <td>1</td>\n",
       "      <td>1</td>\n",
       "    </tr>\n",
       "    <tr>\n",
       "      <th>3421070</th>\n",
       "      <td>16953</td>\n",
       "      <td>2</td>\n",
       "      <td>1</td>\n",
       "    </tr>\n",
       "    <tr>\n",
       "      <th>3421070</th>\n",
       "      <td>4724</td>\n",
       "      <td>3</td>\n",
       "      <td>1</td>\n",
       "    </tr>\n",
       "  </tbody>\n",
       "</table>\n",
       "<p>1384617 rows × 3 columns</p>\n",
       "</div>"
      ],
      "text/plain": [
       "          product_id  add_to_cart_order  reordered\n",
       "order_id                                          \n",
       "1              49302                  1          1\n",
       "1              11109                  2          1\n",
       "1              10246                  3          0\n",
       "1              49683                  4          0\n",
       "1              43633                  5          1\n",
       "...              ...                ...        ...\n",
       "3421063        14233                  3          1\n",
       "3421063        35548                  4          1\n",
       "3421070        35951                  1          1\n",
       "3421070        16953                  2          1\n",
       "3421070         4724                  3          1\n",
       "\n",
       "[1384617 rows x 3 columns]"
      ]
     },
     "execution_count": 3,
     "metadata": {},
     "output_type": "execute_result"
    }
   ],
   "source": [
    "order_products_train_df"
   ]
  },
  {
   "cell_type": "code",
   "execution_count": 4,
   "id": "2e2ae83b",
   "metadata": {},
   "outputs": [
    {
     "data": {
      "text/html": [
       "<div>\n",
       "<style scoped>\n",
       "    .dataframe tbody tr th:only-of-type {\n",
       "        vertical-align: middle;\n",
       "    }\n",
       "\n",
       "    .dataframe tbody tr th {\n",
       "        vertical-align: top;\n",
       "    }\n",
       "\n",
       "    .dataframe thead th {\n",
       "        text-align: right;\n",
       "    }\n",
       "</style>\n",
       "<table border=\"1\" class=\"dataframe\">\n",
       "  <thead>\n",
       "    <tr style=\"text-align: right;\">\n",
       "      <th></th>\n",
       "      <th>product_name</th>\n",
       "      <th>aisle_id</th>\n",
       "      <th>department_id</th>\n",
       "    </tr>\n",
       "    <tr>\n",
       "      <th>product_id</th>\n",
       "      <th></th>\n",
       "      <th></th>\n",
       "      <th></th>\n",
       "    </tr>\n",
       "  </thead>\n",
       "  <tbody>\n",
       "    <tr>\n",
       "      <th>1</th>\n",
       "      <td>Chocolate Sandwich Cookies</td>\n",
       "      <td>61</td>\n",
       "      <td>19</td>\n",
       "    </tr>\n",
       "    <tr>\n",
       "      <th>2</th>\n",
       "      <td>All-Seasons Salt</td>\n",
       "      <td>104</td>\n",
       "      <td>13</td>\n",
       "    </tr>\n",
       "    <tr>\n",
       "      <th>3</th>\n",
       "      <td>Robust Golden Unsweetened Oolong Tea</td>\n",
       "      <td>94</td>\n",
       "      <td>7</td>\n",
       "    </tr>\n",
       "    <tr>\n",
       "      <th>4</th>\n",
       "      <td>Smart Ones Classic Favorites Mini Rigatoni Wit...</td>\n",
       "      <td>38</td>\n",
       "      <td>1</td>\n",
       "    </tr>\n",
       "    <tr>\n",
       "      <th>5</th>\n",
       "      <td>Green Chile Anytime Sauce</td>\n",
       "      <td>5</td>\n",
       "      <td>13</td>\n",
       "    </tr>\n",
       "    <tr>\n",
       "      <th>...</th>\n",
       "      <td>...</td>\n",
       "      <td>...</td>\n",
       "      <td>...</td>\n",
       "    </tr>\n",
       "    <tr>\n",
       "      <th>49684</th>\n",
       "      <td>Vodka, Triple Distilled, Twist of Vanilla</td>\n",
       "      <td>124</td>\n",
       "      <td>5</td>\n",
       "    </tr>\n",
       "    <tr>\n",
       "      <th>49685</th>\n",
       "      <td>En Croute Roast Hazelnut Cranberry</td>\n",
       "      <td>42</td>\n",
       "      <td>1</td>\n",
       "    </tr>\n",
       "    <tr>\n",
       "      <th>49686</th>\n",
       "      <td>Artisan Baguette</td>\n",
       "      <td>112</td>\n",
       "      <td>3</td>\n",
       "    </tr>\n",
       "    <tr>\n",
       "      <th>49687</th>\n",
       "      <td>Smartblend Healthy Metabolism Dry Cat Food</td>\n",
       "      <td>41</td>\n",
       "      <td>8</td>\n",
       "    </tr>\n",
       "    <tr>\n",
       "      <th>49688</th>\n",
       "      <td>Fresh Foaming Cleanser</td>\n",
       "      <td>73</td>\n",
       "      <td>11</td>\n",
       "    </tr>\n",
       "  </tbody>\n",
       "</table>\n",
       "<p>49688 rows × 3 columns</p>\n",
       "</div>"
      ],
      "text/plain": [
       "                                                 product_name  aisle_id  \\\n",
       "product_id                                                                \n",
       "1                                  Chocolate Sandwich Cookies        61   \n",
       "2                                            All-Seasons Salt       104   \n",
       "3                        Robust Golden Unsweetened Oolong Tea        94   \n",
       "4           Smart Ones Classic Favorites Mini Rigatoni Wit...        38   \n",
       "5                                   Green Chile Anytime Sauce         5   \n",
       "...                                                       ...       ...   \n",
       "49684               Vodka, Triple Distilled, Twist of Vanilla       124   \n",
       "49685                      En Croute Roast Hazelnut Cranberry        42   \n",
       "49686                                        Artisan Baguette       112   \n",
       "49687              Smartblend Healthy Metabolism Dry Cat Food        41   \n",
       "49688                                  Fresh Foaming Cleanser        73   \n",
       "\n",
       "            department_id  \n",
       "product_id                 \n",
       "1                      19  \n",
       "2                      13  \n",
       "3                       7  \n",
       "4                       1  \n",
       "5                      13  \n",
       "...                   ...  \n",
       "49684                   5  \n",
       "49685                   1  \n",
       "49686                   3  \n",
       "49687                   8  \n",
       "49688                  11  \n",
       "\n",
       "[49688 rows x 3 columns]"
      ]
     },
     "execution_count": 4,
     "metadata": {},
     "output_type": "execute_result"
    }
   ],
   "source": [
    "products_df"
   ]
  },
  {
   "cell_type": "code",
   "execution_count": 5,
   "id": "0af33a7c",
   "metadata": {},
   "outputs": [
    {
     "data": {
      "text/plain": [
       "product_id           0\n",
       "add_to_cart_order    0\n",
       "reordered            0\n",
       "dtype: int64"
      ]
     },
     "execution_count": 5,
     "metadata": {},
     "output_type": "execute_result"
    }
   ],
   "source": [
    "order_products_train_df.isna().sum()"
   ]
  },
  {
   "cell_type": "code",
   "execution_count": 6,
   "id": "bbc5703c",
   "metadata": {},
   "outputs": [
    {
     "data": {
      "text/plain": [
       "product_name     0\n",
       "aisle_id         0\n",
       "department_id    0\n",
       "dtype: int64"
      ]
     },
     "execution_count": 6,
     "metadata": {},
     "output_type": "execute_result"
    }
   ],
   "source": [
    "products_df.isna().sum()"
   ]
  },
  {
   "cell_type": "code",
   "execution_count": 7,
   "id": "6de73701",
   "metadata": {},
   "outputs": [],
   "source": [
    "def plot_bars(x_axis_data, y_axis_data, x_axis_label, y_axis_label, title, color, \n",
    "              orientation='vertical', figsize=(13,6)):\n",
    "    plt.figure(figsize = figsize)\n",
    "    if orientation == 'horizontal':\n",
    "        plt.barh(x_axis_data, y_axis_data, color = color)\n",
    "        plt.xlabel(y_axis_label, fontsize=12)\n",
    "        plt.ylabel(x_axis_label, fontsize=12)\n",
    "    elif orientation == 'vertical':\n",
    "        plt.bar(x_axis_data, y_axis_data, color = color)\n",
    "        plt.xlabel(x_axis_label)\n",
    "        plt.ylabel(y_axis_label)\n",
    "    plt.title(title, fontsize=14)\n",
    "    plt.show()"
   ]
  },
  {
   "cell_type": "code",
   "execution_count": 8,
   "id": "8eb0abb7",
   "metadata": {},
   "outputs": [],
   "source": [
    "# This function takes an id_list and returns the names associated according to the table passed\n",
    "def get_products_by_id(id_list):\n",
    "    outcomes = []\n",
    "    outcomes = list(products_df.product_name.values[np.array(id_list) - 1])\n",
    "    return outcomes"
   ]
  },
  {
   "cell_type": "code",
   "execution_count": 9,
   "id": "176886f9",
   "metadata": {},
   "outputs": [],
   "source": [
    "products_to_show = 15"
   ]
  },
  {
   "cell_type": "code",
   "execution_count": 10,
   "id": "1947f4aa",
   "metadata": {},
   "outputs": [],
   "source": [
    "products = dict(order_products_train_df.product_id.value_counts()[:products_to_show])\n",
    "x1 = get_products_by_id(list(products.keys()))\n",
    "y1 = list(products.values())"
   ]
  },
  {
   "cell_type": "code",
   "execution_count": 11,
   "id": "e3892e51",
   "metadata": {},
   "outputs": [
    {
     "data": {
      "image/png": "[encoded data removed]",
      "text/plain": [
       "<Figure size 936x432 with 1 Axes>"
      ]
     },
     "metadata": {
      "needs_background": "light"
     },
     "output_type": "display_data"
    }
   ],
   "source": [
    "plot_bars(x1, y1, \"Product\", \"Times Purchased\", \"Most Common Purchased Products\", 'limegreen', 'horizontal')"
   ]
  },
  {
   "cell_type": "code",
   "execution_count": 12,
   "id": "1e177635",
   "metadata": {},
   "outputs": [],
   "source": [
    "reordered_products_df = order_products_train_df[order_products_train_df.reordered == 1]\n",
    "products_reordered = dict(reordered_products_df.product_id.value_counts()[:products_to_show])\n",
    "x2 = get_products_by_id(list(products_reordered.keys()))\n",
    "y2 = list(products_reordered.values())"
   ]
  },
  {
   "cell_type": "code",
   "execution_count": 13,
   "id": "ab2b4740",
   "metadata": {},
   "outputs": [
    {
     "data": {
      "image/png": "[encoded data removed]",
      "text/plain": [
       "<Figure size 936x432 with 1 Axes>"
      ]
     },
     "metadata": {
      "needs_background": "light"
     },
     "output_type": "display_data"
    }
   ],
   "source": [
    "plot_bars(x2, y2, \"Product\", \"Times Purchased\", \"Most Common Reordered Purchased Products\", 'yellow', 'horizontal')"
   ]
  },
  {
   "cell_type": "markdown",
   "id": "2a41da4e",
   "metadata": {},
   "source": [
    "---"
   ]
  },
  {
   "cell_type": "markdown",
   "id": "fcd7c76f",
   "metadata": {},
   "source": [
    "### Alternative solution using merge"
   ]
  },
  {
   "cell_type": "code",
   "execution_count": 14,
   "id": "62e045f9",
   "metadata": {},
   "outputs": [
    {
     "data": {
      "text/html": [
       "<div>\n",
       "<style scoped>\n",
       "    .dataframe tbody tr th:only-of-type {\n",
       "        vertical-align: middle;\n",
       "    }\n",
       "\n",
       "    .dataframe tbody tr th {\n",
       "        vertical-align: top;\n",
       "    }\n",
       "\n",
       "    .dataframe thead th {\n",
       "        text-align: right;\n",
       "    }\n",
       "</style>\n",
       "<table border=\"1\" class=\"dataframe\">\n",
       "  <thead>\n",
       "    <tr style=\"text-align: right;\">\n",
       "      <th></th>\n",
       "      <th>product_id</th>\n",
       "      <th>add_to_cart_order</th>\n",
       "      <th>reordered</th>\n",
       "      <th>product_name</th>\n",
       "      <th>aisle_id</th>\n",
       "      <th>department_id</th>\n",
       "    </tr>\n",
       "  </thead>\n",
       "  <tbody>\n",
       "    <tr>\n",
       "      <th>0</th>\n",
       "      <td>49302</td>\n",
       "      <td>1</td>\n",
       "      <td>1</td>\n",
       "      <td>Bulgarian Yogurt</td>\n",
       "      <td>120</td>\n",
       "      <td>16</td>\n",
       "    </tr>\n",
       "    <tr>\n",
       "      <th>1</th>\n",
       "      <td>49302</td>\n",
       "      <td>7</td>\n",
       "      <td>1</td>\n",
       "      <td>Bulgarian Yogurt</td>\n",
       "      <td>120</td>\n",
       "      <td>16</td>\n",
       "    </tr>\n",
       "    <tr>\n",
       "      <th>2</th>\n",
       "      <td>49302</td>\n",
       "      <td>1</td>\n",
       "      <td>1</td>\n",
       "      <td>Bulgarian Yogurt</td>\n",
       "      <td>120</td>\n",
       "      <td>16</td>\n",
       "    </tr>\n",
       "    <tr>\n",
       "      <th>3</th>\n",
       "      <td>49302</td>\n",
       "      <td>11</td>\n",
       "      <td>1</td>\n",
       "      <td>Bulgarian Yogurt</td>\n",
       "      <td>120</td>\n",
       "      <td>16</td>\n",
       "    </tr>\n",
       "    <tr>\n",
       "      <th>4</th>\n",
       "      <td>49302</td>\n",
       "      <td>8</td>\n",
       "      <td>0</td>\n",
       "      <td>Bulgarian Yogurt</td>\n",
       "      <td>120</td>\n",
       "      <td>16</td>\n",
       "    </tr>\n",
       "    <tr>\n",
       "      <th>...</th>\n",
       "      <td>...</td>\n",
       "      <td>...</td>\n",
       "      <td>...</td>\n",
       "      <td>...</td>\n",
       "      <td>...</td>\n",
       "      <td>...</td>\n",
       "    </tr>\n",
       "    <tr>\n",
       "      <th>1384612</th>\n",
       "      <td>1528</td>\n",
       "      <td>12</td>\n",
       "      <td>0</td>\n",
       "      <td>Sprinkles Decors</td>\n",
       "      <td>97</td>\n",
       "      <td>13</td>\n",
       "    </tr>\n",
       "    <tr>\n",
       "      <th>1384613</th>\n",
       "      <td>47935</td>\n",
       "      <td>20</td>\n",
       "      <td>0</td>\n",
       "      <td>Classic Original Lip Balm SPF 12</td>\n",
       "      <td>73</td>\n",
       "      <td>11</td>\n",
       "    </tr>\n",
       "    <tr>\n",
       "      <th>1384614</th>\n",
       "      <td>9491</td>\n",
       "      <td>21</td>\n",
       "      <td>0</td>\n",
       "      <td>Goats Milk &amp; Chai Soap</td>\n",
       "      <td>25</td>\n",
       "      <td>11</td>\n",
       "    </tr>\n",
       "    <tr>\n",
       "      <th>1384615</th>\n",
       "      <td>16380</td>\n",
       "      <td>12</td>\n",
       "      <td>0</td>\n",
       "      <td>Stevia Sweetener</td>\n",
       "      <td>97</td>\n",
       "      <td>13</td>\n",
       "    </tr>\n",
       "    <tr>\n",
       "      <th>1384616</th>\n",
       "      <td>38900</td>\n",
       "      <td>9</td>\n",
       "      <td>1</td>\n",
       "      <td>Plain Golden Toasted Bread Crumbs</td>\n",
       "      <td>5</td>\n",
       "      <td>13</td>\n",
       "    </tr>\n",
       "  </tbody>\n",
       "</table>\n",
       "<p>1384617 rows × 6 columns</p>\n",
       "</div>"
      ],
      "text/plain": [
       "         product_id  add_to_cart_order  reordered  \\\n",
       "0             49302                  1          1   \n",
       "1             49302                  7          1   \n",
       "2             49302                  1          1   \n",
       "3             49302                 11          1   \n",
       "4             49302                  8          0   \n",
       "...             ...                ...        ...   \n",
       "1384612        1528                 12          0   \n",
       "1384613       47935                 20          0   \n",
       "1384614        9491                 21          0   \n",
       "1384615       16380                 12          0   \n",
       "1384616       38900                  9          1   \n",
       "\n",
       "                              product_name  aisle_id  department_id  \n",
       "0                         Bulgarian Yogurt       120             16  \n",
       "1                         Bulgarian Yogurt       120             16  \n",
       "2                         Bulgarian Yogurt       120             16  \n",
       "3                         Bulgarian Yogurt       120             16  \n",
       "4                         Bulgarian Yogurt       120             16  \n",
       "...                                    ...       ...            ...  \n",
       "1384612                   Sprinkles Decors        97             13  \n",
       "1384613   Classic Original Lip Balm SPF 12        73             11  \n",
       "1384614             Goats Milk & Chai Soap        25             11  \n",
       "1384615                   Stevia Sweetener        97             13  \n",
       "1384616  Plain Golden Toasted Bread Crumbs         5             13  \n",
       "\n",
       "[1384617 rows x 6 columns]"
      ]
     },
     "execution_count": 14,
     "metadata": {},
     "output_type": "execute_result"
    }
   ],
   "source": [
    "merge_df = pd.merge(order_products_train_df, products_df, on=[\"product_id\"])\n",
    "merge_df"
   ]
  },
  {
   "cell_type": "code",
   "execution_count": 15,
   "id": "2403135f",
   "metadata": {},
   "outputs": [
    {
     "data": {
      "text/plain": [
       "Banana                    18726\n",
       "Bag of Organic Bananas    15480\n",
       "Organic Strawberries      10894\n",
       "Organic Baby Spinach       9784\n",
       "Large Lemon                8135\n",
       "Organic Avocado            7409\n",
       "Organic Hass Avocado       7293\n",
       "Strawberries               6494\n",
       "Limes                      6033\n",
       "Organic Raspberries        5546\n",
       "Organic Blueberries        4966\n",
       "Organic Whole Milk         4908\n",
       "Organic Cucumber           4613\n",
       "Organic Zucchini           4589\n",
       "Organic Yellow Onion       4290\n",
       "Name: product_name, dtype: int64"
      ]
     },
     "execution_count": 15,
     "metadata": {},
     "output_type": "execute_result"
    }
   ],
   "source": [
    "merge_df.product_name.value_counts()[:products_to_show]"
   ]
  },
  {
   "cell_type": "code",
   "execution_count": 18,
   "id": "f3f6f6c0",
   "metadata": {},
   "outputs": [],
   "source": [
    "products = dict(merge_df.product_name.value_counts()[:products_to_show])\n",
    "x3 = list(products.keys())\n",
    "y3 = list(products.values())"
   ]
  },
  {
   "cell_type": "code",
   "execution_count": 19,
   "id": "214d0c90",
   "metadata": {},
   "outputs": [
    {
     "data": {
      "image/png": "[encoded data removed]",
      "text/plain": [
       "<Figure size 936x432 with 1 Axes>"
      ]
     },
     "metadata": {
      "needs_background": "light"
     },
     "output_type": "display_data"
    }
   ],
   "source": [
    "plot_bars(x3, y3, \"Product\", \"Times Purchased\", \"Most Common Purchased Products\", 'limegreen', 'horizontal')"
   ]
  },
  {
   "cell_type": "code",
   "execution_count": 20,
   "id": "163b8d17",
   "metadata": {},
   "outputs": [],
   "source": [
    "products = dict(merge_df[merge_df.reordered == 1].product_name.value_counts()[:products_to_show])\n",
    "x4 = list(products.keys())\n",
    "y4 = list(products.values())"
   ]
  },
  {
   "cell_type": "code",
   "execution_count": 22,
   "id": "290c226f",
   "metadata": {},
   "outputs": [
    {
     "data": {
      "image/png": "[encoded data removed]",
      "text/plain": [
       "<Figure size 936x432 with 1 Axes>"
      ]
     },
     "metadata": {
      "needs_background": "light"
     },
     "output_type": "display_data"
    }
   ],
   "source": [
    "plot_bars(x4, y4, \"Product\", \"Times Purchased\", \"Most Common Purchased Products\", 'yellow', 'horizontal')"
   ]
  }
 ],
 "metadata": {
  "kernelspec": {
   "display_name": "Python 3",
   "language": "python",
   "name": "python3"
  },
  "language_info": {
   "codemirror_mode": {
    "name": "ipython",
    "version": 3
   },
   "file_extension": ".py",
   "mimetype": "text/x-python",
   "name": "python",
   "nbconvert_exporter": "python",
   "pygments_lexer": "ipython3",
   "version": "3.8.8"
  }
 },
 "nbformat": 4,
 "nbformat_minor": 5
}
