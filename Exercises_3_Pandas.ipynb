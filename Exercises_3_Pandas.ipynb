{
 "cells": [
  {
   "cell_type": "code",
   "execution_count": null,
   "metadata": {
    "colab": {},
    "colab_type": "code",
    "id": "t3uUBYmXrhba"
   },
   "outputs": [],
   "source": [
    "import numpy as np\n",
    "import pandas as pd"
   ]
  },
  {
   "cell_type": "code",
   "execution_count": null,
   "metadata": {
    "colab": {},
    "colab_type": "code",
    "id": "pdzxMYtErhb0"
   },
   "outputs": [],
   "source": [
    "def create_df(missing=False, n=10):\n",
    "    itemid   = np.random.randint(100000, size=n)+1000\n",
    "    category = np.random.randint(3, size=n)\n",
    "    price    = np.round(np.random.normal(loc=100, scale=10, size=n),2)\n",
    "    margin   = np.round(np.random.normal(loc=10, scale=1, size=n),2)\n",
    "    \n",
    "    if missing:\n",
    "        nmissing = np.random.randint(len(price)//2)+2                                     \n",
    "        price[np.random.permutation(len(price))[:nmissing]] = np.nan\n",
    "    \n",
    "    d = pd.DataFrame(np.r_[[price, category, margin]].T, index=itemid, columns=[\"price\", \"category\", \"margin\"])\n",
    "    d.index.name=\"itemid\"\n",
    "    if np.random.random()>.5:\n",
    "        d = d[d.columns[:2]]\n",
    "        \n",
    "    return d"
   ]
  },
  {
   "cell_type": "code",
   "execution_count": null,
   "metadata": {
    "colab": {
     "base_uri": "https://localhost:8080/",
     "height": 394
    },
    "colab_type": "code",
    "id": "Vt8tjLAyrhcR",
    "outputId": "8b3890e3-bb0f-4172-cdd6-2b30afea15fd"
   },
   "outputs": [],
   "source": [
    "d = create_df()\n",
    "d"
   ]
  },
  {
   "cell_type": "markdown",
   "metadata": {
    "colab_type": "text",
    "id": "ETTazxuNrhdT"
   },
   "source": [
    "# Task 1: Group statistics\n",
    "\n",
    "Complete the following function so that it returns a dataframe with the average, max and min **prices** per category. \n",
    "\n",
    "For instance, for the following dataframe\n",
    "\n",
    "             price  category  margin\n",
    "    itemid                          \n",
    "    17946    93.85       1.0   10.64\n",
    "    61190    91.72       1.0    9.76\n",
    "    39639   100.16       1.0   10.67\n",
    "    17791   110.44       2.0    9.65\n",
    "    7333    101.05       1.0    9.69\n",
    "    77362   122.33       0.0   11.14\n",
    "    92646   108.13       2.0   10.58\n",
    "    27797    85.52       2.0   10.88\n",
    "    31746    97.56       0.0    9.75\n",
    "    12355   101.04       2.0    9.51\n",
    "    \n",
    "you should return the following dataframe\n",
    "\n",
    "                 media  maximo  minimo\n",
    "    categoria                         \n",
    "    0         109.9450  122.33  97.56\n",
    "    1          96.6950  101.05  91.72\n",
    "    2         101.2825  110.44  85.52\n",
    "    \n",
    "observe that your result\n",
    "- must not be a **multilevel** columnset.\n",
    "- the column names and the index name must be **exactly** as in the example.\n",
    "- the **index** must be of type **int**."
   ]
  },
  {
   "cell_type": "code",
   "execution_count": null,
   "metadata": {
    "colab": {},
    "colab_type": "code",
    "id": "rpfPuclLrhdX"
   },
   "outputs": [],
   "source": [
    "def get_stats(df):\n",
    "    # Write your code here\n",
    "    return"
   ]
  },
  {
   "cell_type": "markdown",
   "metadata": {
    "colab_type": "text",
    "id": "3NHkEJvIrheO"
   },
   "source": [
    "**manually check your answer**"
   ]
  },
  {
   "cell_type": "code",
   "execution_count": null,
   "metadata": {
    "colab": {
     "base_uri": "https://localhost:8080/",
     "height": 394
    },
    "colab_type": "code",
    "id": "AeG9G8DCrheR",
    "outputId": "61c7e2a0-6b1c-455d-b8f0-21cfe73bea45"
   },
   "outputs": [],
   "source": [
    "d = create_df()\n",
    "d"
   ]
  },
  {
   "cell_type": "code",
   "execution_count": null,
   "metadata": {
    "colab": {
     "base_uri": "https://localhost:8080/",
     "height": 175
    },
    "colab_type": "code",
    "id": "PeZPHRiJrhek",
    "outputId": "aef151c7-5a72-44da-f16e-e6a85dd41c27"
   },
   "outputs": [],
   "source": [
    "nf = get_stats(d)\n",
    "nf"
   ]
  },
  {
   "cell_type": "markdown",
   "metadata": {},
   "source": [
    "**Check that your implementation is correct comparing with the example shown in the problem statement:**"
   ]
  },
  {
   "cell_type": "code",
   "execution_count": null,
   "metadata": {},
   "outputs": [],
   "source": [
    "array = np.array([[93.85, 1.0, 10.64],\n",
    "                 [91.72, 1.0, 9.76],\n",
    "                 [100.16, 1.0, 10.67],\n",
    "                 [110.44, 2.0, 9.65],\n",
    "                 [101.05, 1.0, 9.69],\n",
    "                 [122.33, 0.0, 11.14],\n",
    "                 [108.13, 2.0, 10.58],\n",
    "                 [85.52, 2.0, 10.88],\n",
    "                 [97.56, 0.0, 9.75],\n",
    "                 [101.04, 2.0, 9.51]])\n",
    "df_test = pd.DataFrame(array, columns = ['price', 'category', 'margin'])\n",
    "df_test"
   ]
  },
  {
   "cell_type": "code",
   "execution_count": null,
   "metadata": {},
   "outputs": [],
   "source": [
    "get_stats(df_test)"
   ]
  }
 ],
 "metadata": {
  "colab": {
   "name": "LAB 02.03 - PANDAS.ipynb",
   "provenance": []
  },
  "kernelspec": {
   "display_name": "Python 3",
   "language": "python",
   "name": "python3"
  },
  "language_info": {
   "codemirror_mode": {
    "name": "ipython",
    "version": 3
   },
   "file_extension": ".py",
   "mimetype": "text/x-python",
   "name": "python",
   "nbconvert_exporter": "python",
   "pygments_lexer": "ipython3",
   "version": "3.8.8"
  }
 },
 "nbformat": 4,
 "nbformat_minor": 1
}
